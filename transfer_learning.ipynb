{
 "cells": [
  {
   "cell_type": "code",
   "execution_count": 39,
   "metadata": {},
   "outputs": [],
   "source": [
    "img_height = 128\n",
    "img_width = 128\n",
    "img_channels = 3\n",
    "img_size = (img_height, img_width)\n",
    "train_dir = r\"/home/mwaniki-new/Documents/deep_learning/transfer_learning/src/train\"\n",
    "test_dir = r\"/home/mwaniki-new/Documents/deep_learning/transfer_learning/src/test\"\n",
    "batch_size = 64"
   ]
  },
  {
   "cell_type": "code",
   "execution_count": 40,
   "metadata": {},
   "outputs": [
    {
     "name": "stderr",
     "output_type": "stream",
     "text": [
      "COMET INFO: Comet API key is valid\n"
     ]
    }
   ],
   "source": [
    "import comet_ml\n",
    "\n",
    "comet_ml.init_project(\"transfer_learning_training\")\n"
   ]
  },
  {
   "cell_type": "code",
   "execution_count": 41,
   "metadata": {},
   "outputs": [
    {
     "name": "stderr",
     "output_type": "stream",
     "text": [
      "COMET INFO: ---------------------------\n",
      "COMET INFO: Comet.ml Experiment Summary\n",
      "COMET INFO: ---------------------------\n",
      "COMET INFO:   Data:\n",
      "COMET INFO:     display_summary_level : 1\n",
      "COMET INFO:     url                   : https://www.comet.com/mwanikinjagi/general/8a3039fcf2f44d0e8fd1807d21cbdce0\n",
      "COMET INFO:   Parameters:\n",
      "COMET INFO:     batch_size : 64\n",
      "COMET INFO:     epochs     : 5\n",
      "COMET INFO:     loss       : binary_crossentropy\n",
      "COMET INFO:     optimizer  : adam\n",
      "COMET INFO:   Uploads:\n"
     ]
    },
    {
     "name": "stderr",
     "output_type": "stream",
     "text": [
      "COMET INFO:     environment details : 1\n",
      "COMET INFO:     filename            : 1\n",
      "COMET INFO:     installed packages  : 1\n",
      "COMET INFO:     notebook            : 1\n",
      "COMET INFO:     os packages         : 1\n",
      "COMET INFO:     source_code         : 1\n",
      "COMET INFO: ---------------------------\n",
      "COMET WARNING: As you are running in a Jupyter environment, you will need to call `experiment.end()` when finished to ensure all metrics and code are logged before exiting.\n",
      "COMET INFO: Couldn't find a Git repository in '/home/mwaniki-new/Documents/deep_learning/transfer_learning' nor in any parent directory. You can override where Comet is looking for a Git Patch by setting the configuration `COMET_GIT_DIRECTORY`\n",
      "COMET INFO: Experiment is live on comet.com https://www.comet.com/mwanikinjagi/general/87f45e8c992c44b896f8a64910ccf3da\n",
      "\n"
     ]
    }
   ],
   "source": [
    "from comet_ml import Experiment\n",
    "#initializing comet experiment\n",
    "experiment = Experiment()\n",
    "\n",
    "parameters = {\n",
    "    \"batch_size\":batch_size,\n",
    "    \"epochs\": 5,\n",
    "    \"optimizer\": \"adam\",\n",
    "    \"loss\": \"binary_crossentropy\",\n",
    "}\n",
    "\n",
    "experiment.log_parameters(parameters)"
   ]
  },
  {
   "cell_type": "code",
   "execution_count": 42,
   "metadata": {},
   "outputs": [
    {
     "name": "stdout",
     "output_type": "stream",
     "text": [
      "Found 20000 validated image filenames belonging to 2 classes.\n",
      "Found 20000 validated image filenames belonging to 2 classes.\n"
     ]
    }
   ],
   "source": [
    "import pandas as pd\n",
    "from sklearn.model_selection import train_test_split\n",
    "from keras.preprocessing.image import ImageDataGenerator\n",
    "\n",
    "\n",
    "#Importing dataframe\n",
    "df = pd.read_csv(\"training_info.csv\")\n",
    "\n",
    "#performing training and validation splits\n",
    "train_df, validation_df = train_test_split(df,test_size=0.2, random_state=42)\n",
    "\n",
    "#preparing data generators\n",
    "train_datagen = ImageDataGenerator(rotation_range=15,\n",
    "                                   rescale=1./255,\n",
    "                                   shear_range=0.1,\n",
    "                                   zoom_range=0.2,\n",
    "                                   horizontal_flip=True,\n",
    "                                   width_shift_range=0.1,\n",
    "                                   height_shift_range=0.1)\n",
    "\n",
    "\n",
    "train_gen = train_datagen.flow_from_dataframe(train_df, \n",
    "                                              train_dir, x_col='filename', y_col='category',\n",
    "                                              target_size=img_size,\n",
    "                                              class_mode='binary',\n",
    "                                              batch_size=batch_size)\n",
    "\n",
    "validation_datagen = ImageDataGenerator(rescale=1./255)\n",
    "\n",
    "\n",
    "validation_gen = validation_datagen.flow_from_dataframe(train_df, \n",
    "                                              train_dir, x_col='filename', y_col='category',\n",
    "                                              target_size=img_size,\n",
    "                                              class_mode='binary',\n",
    "                                              batch_size=batch_size)\n",
    "\n",
    "test_datagen = ImageDataGenerator(rotation_range=15,\n",
    "                                  rescale=1./255,\n",
    "                                  shear_range=0.1,\n",
    "                                  zoom_range=0.2,\n",
    "                                  horizontal_flip=True,\n",
    "                                  width_shift_range=0.1,\n",
    "                                  height_shift_range=0.1)\n",
    "#we will make a test datagen later\n",
    "#number of train and validation samples\n",
    "total_train = train_df.shape[0]\n",
    "total_validation = validation_df.shape[0]"
   ]
  },
  {
   "cell_type": "code",
   "execution_count": 43,
   "metadata": {},
   "outputs": [
    {
     "data": {
      "text/plain": [
       "20000"
      ]
     },
     "execution_count": 43,
     "metadata": {},
     "output_type": "execute_result"
    }
   ],
   "source": [
    "total_train"
   ]
  },
  {
   "cell_type": "code",
   "execution_count": 44,
   "metadata": {},
   "outputs": [
    {
     "data": {
      "text/plain": [
       "5000"
      ]
     },
     "execution_count": 44,
     "metadata": {},
     "output_type": "execute_result"
    }
   ],
   "source": [
    "total_validation"
   ]
  },
  {
   "cell_type": "code",
   "execution_count": 45,
   "metadata": {},
   "outputs": [],
   "source": [
    "#model creation and training\n",
    "from keras.applications.resnet import ResNet50\n",
    "from keras.layers import Dense, Flatten\n",
    "from keras.models import Sequential\n",
    "from keras.callbacks import EarlyStopping\n",
    "\n",
    "#initialize sequential model\n",
    "model = Sequential()\n",
    "\n",
    "#base model\n",
    "base = ResNet50(weights= 'imagenet',\n",
    "                 include_top=False,\n",
    "                 input_shape=(img_height, img_width, img_channels),\n",
    "                 classes=2\n",
    "                 )\n",
    "\n",
    "for layer in base.layers:\n",
    "    layer.trainable = False\n",
    "\n",
    "#Adding layers to the model\n",
    "model.add(base)\n",
    "model.add(Flatten())\n",
    "model.add(Dense(512, activation='relu'))\n",
    "model.add(Dense(1, activation='softmax'))\n",
    "\n",
    "#EarlyStopping callback\n",
    "callback = EarlyStopping(monitor='loss',\n",
    "                         patience=0)"
   ]
  },
  {
   "cell_type": "code",
   "execution_count": 46,
   "metadata": {},
   "outputs": [
    {
     "name": "stdout",
     "output_type": "stream",
     "text": [
      "Model: \"sequential_6\"\n",
      "_________________________________________________________________\n",
      " Layer (type)                Output Shape              Param #   \n",
      "=================================================================\n",
      " resnet50 (Functional)       (None, 4, 4, 2048)        23587712  \n",
      "                                                                 \n",
      " flatten_4 (Flatten)         (None, 32768)             0         \n",
      "                                                                 \n",
      " dense_8 (Dense)             (None, 512)               16777728  \n",
      "                                                                 \n",
      " dense_9 (Dense)             (None, 1)                 513       \n",
      "                                                                 \n",
      "=================================================================\n",
      "Total params: 40,365,953\n",
      "Trainable params: 16,778,241\n",
      "Non-trainable params: 23,587,712\n",
      "_________________________________________________________________\n"
     ]
    }
   ],
   "source": [
    "model.summary()"
   ]
  },
  {
   "cell_type": "code",
   "execution_count": 47,
   "metadata": {},
   "outputs": [],
   "source": [
    "model.compile(loss=parameters[\"loss\"],\n",
    "              optimizer=parameters[\"optimizer\"],\n",
    "              metrics=[\"accuracy\"])"
   ]
  },
  {
   "cell_type": "code",
   "execution_count": 48,
   "metadata": {},
   "outputs": [
    {
     "name": "stderr",
     "output_type": "stream",
     "text": [
      "/home/mwaniki-new/.local/lib/python3.10/site-packages/comet_ml/monkey_patching.py:312: UserWarning: `Model.fit_generator` is deprecated and will be removed in a future version. Please use `Model.fit`, which supports generators.\n",
      "  return_value = original(*args, **kwargs)\n"
     ]
    },
    {
     "name": "stdout",
     "output_type": "stream",
     "text": [
      "Epoch 1/5\n"
     ]
    },
    {
     "name": "stderr",
     "output_type": "stream",
     "text": [
      "2023-08-21 17:58:18.267449: I tensorflow/core/common_runtime/executor.cc:1197] [/device:CPU:0] (DEBUG INFO) Executor start aborting (this does not indicate an error and you can ignore this message): INVALID_ARGUMENT: You must feed a value for placeholder tensor 'Placeholder/_0' with dtype int32\n",
      "\t [[{{node Placeholder/_0}}]]\n"
     ]
    },
    {
     "name": "stdout",
     "output_type": "stream",
     "text": [
      "    7/20000 [..............................] - ETA: 15:37:44 - loss: 1.9028 - accuracy: 0.5156"
     ]
    },
    {
     "name": "stdout",
     "output_type": "stream",
     "text": [
      "   14/20000 [..............................] - ETA: 16:23:55 - loss: 1.3820 - accuracy: 0.5067"
     ]
    }
   ],
   "source": [
    "model.fit_generator(train_gen,\n",
    "                    validation_data = validation_gen,\n",
    "                    epochs=parameters[\"epochs\"],\n",
    "                    validation_steps=total_validation,\n",
    "                    steps_per_epoch=total_train,\n",
    "                    callbacks=[callback])\n",
    "\n",
    "model.save(\"model_5_epoch.h5\")"
   ]
  },
  {
   "cell_type": "code",
   "execution_count": null,
   "metadata": {},
   "outputs": [],
   "source": [
    "experiment.end()"
   ]
  }
 ],
 "metadata": {
  "kernelspec": {
   "display_name": "Python 3",
   "language": "python",
   "name": "python3"
  },
  "language_info": {
   "codemirror_mode": {
    "name": "ipython",
    "version": 3
   },
   "file_extension": ".py",
   "mimetype": "text/x-python",
   "name": "python",
   "nbconvert_exporter": "python",
   "pygments_lexer": "ipython3",
   "version": "3.10.6"
  },
  "orig_nbformat": 4
 },
 "nbformat": 4,
 "nbformat_minor": 2
}
